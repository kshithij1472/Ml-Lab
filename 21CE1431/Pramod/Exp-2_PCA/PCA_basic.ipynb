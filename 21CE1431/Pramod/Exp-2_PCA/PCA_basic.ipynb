{
 "cells": [
  {
   "cell_type": "code",
   "execution_count": 1,
   "id": "71a9ec04-e272-45d9-847e-73de769d9bc4",
   "metadata": {},
   "outputs": [],
   "source": [
    "import numpy as np"
   ]
  },
  {
   "cell_type": "code",
   "execution_count": 50,
   "id": "fdb8f3f0-15d0-40ed-9a61-2b522db9c65b",
   "metadata": {},
   "outputs": [
    {
     "data": {
      "text/plain": [
       "array([[2, 5],\n",
       "       [4, 6],\n",
       "       [3, 2],\n",
       "       [1, 2],\n",
       "       [2, 4]])"
      ]
     },
     "execution_count": 50,
     "metadata": {},
     "output_type": "execute_result"
    }
   ],
   "source": [
    "X = np.array([[2, 4, 3, 1, 2],\n",
    "              [5, 6, 2, 2, 4]]).T\n",
    "X"
   ]
  },
  {
   "cell_type": "markdown",
   "id": "dab1594f-3631-4fec-8a3a-ccb1c05c2911",
   "metadata": {},
   "source": [
    "#### Mean normalization"
   ]
  },
  {
   "cell_type": "code",
   "execution_count": 51,
   "id": "79ff2262-5d1b-4642-a772-3edb39fe6481",
   "metadata": {},
   "outputs": [
    {
     "data": {
      "text/plain": [
       "array([2.4, 3.8])"
      ]
     },
     "execution_count": 51,
     "metadata": {},
     "output_type": "execute_result"
    }
   ],
   "source": [
    "X_mean = np.mean(X, axis=0)\n",
    "X_mean"
   ]
  },
  {
   "cell_type": "code",
   "execution_count": 52,
   "id": "b1d0cb12-8a84-47b8-9e7f-0a1d1d073e44",
   "metadata": {},
   "outputs": [
    {
     "data": {
      "text/plain": [
       "array([[-0.4,  1.2],\n",
       "       [ 1.6,  2.2],\n",
       "       [ 0.6, -1.8],\n",
       "       [-1.4, -1.8],\n",
       "       [-0.4,  0.2]])"
      ]
     },
     "execution_count": 52,
     "metadata": {},
     "output_type": "execute_result"
    }
   ],
   "source": [
    "X_norm = X - X_mean\n",
    "X_norm"
   ]
  },
  {
   "cell_type": "code",
   "execution_count": 53,
   "id": "b2210d61-fe08-4e82-9424-9ce298d7391f",
   "metadata": {},
   "outputs": [
    {
     "data": {
      "text/plain": [
       "array([[1.3, 1.1],\n",
       "       [1.1, 3.2]])"
      ]
     },
     "execution_count": 53,
     "metadata": {},
     "output_type": "execute_result"
    }
   ],
   "source": [
    "C = np.cov(X_norm.T)\n",
    "C"
   ]
  },
  {
   "cell_type": "code",
   "execution_count": 54,
   "id": "ad9b000c-b4fb-4acf-846f-f9a51581b019",
   "metadata": {},
   "outputs": [
    {
     "data": {
      "text/plain": [
       "array([[1.04, 0.88],\n",
       "       [0.88, 2.56]])"
      ]
     },
     "execution_count": 54,
     "metadata": {},
     "output_type": "execute_result"
    }
   ],
   "source": [
    "C[0][0] = np.mean(X_norm[:, 0] * X_norm[:, 0])\n",
    "C[0][1] = np.mean(X_norm[:, 0] * X_norm[:, 1])\n",
    "C[1][0] = C[0][1]\n",
    "C[1][1] = np.mean(X_norm[:, 1] * X_norm[:, 1])\n",
    "C"
   ]
  },
  {
   "cell_type": "code",
   "execution_count": 17,
   "id": "a5bca7cf-c935-4132-9d3b-0760baa406fb",
   "metadata": {},
   "outputs": [
    {
     "data": {
      "text/plain": [
       "(array([0.63724465, 2.96275535]),\n",
       " array([[-0.9092909, -0.4161611],\n",
       "        [ 0.4161611, -0.9092909]]))"
      ]
     },
     "execution_count": 17,
     "metadata": {},
     "output_type": "execute_result"
    }
   ],
   "source": [
    "eig_val, eig_vec = np.linalg.eig(C)\n",
    "eig_val, eig_vec"
   ]
  },
  {
   "cell_type": "code",
   "execution_count": 23,
   "id": "f578c8fe-4124-4067-adda-f3377daea820",
   "metadata": {},
   "outputs": [
    {
     "data": {
      "text/plain": [
       "(2,)"
      ]
     },
     "execution_count": 23,
     "metadata": {},
     "output_type": "execute_result"
    }
   ],
   "source": [
    "eig_vec[:, np.argmax(eig_val)]"
   ]
  },
  {
   "cell_type": "code",
   "execution_count": 27,
   "id": "ea1b9a8f-e1c9-4ffe-b0d0-bacda56706cb",
   "metadata": {},
   "outputs": [
    {
     "data": {
      "text/plain": [
       "array([[-0.13567697, -2.37041986,  0.20351545,  2.02209724,  0.28048414],\n",
       "       [-1.25761352, -1.33458221,  1.88642028,  1.05409807, -0.34832262]])"
      ]
     },
     "execution_count": 27,
     "metadata": {},
     "output_type": "execute_result"
    }
   ],
   "source": [
    "eig_vec @ X_norm.T"
   ]
  },
  {
   "cell_type": "code",
   "execution_count": 26,
   "id": "55c738a1-74c9-435a-a9d3-572aaddaa484",
   "metadata": {},
   "outputs": [
    {
     "data": {
      "text/plain": [
       "array([-0.92468463, -2.66629774,  1.38702695,  2.21934916, -0.01539374])"
      ]
     },
     "execution_count": 26,
     "metadata": {},
     "output_type": "execute_result"
    }
   ],
   "source": [
    "eig_vec[:, np.argmax(eig_val)] @ X_norm.T"
   ]
  }
 ],
 "metadata": {
  "kernelspec": {
   "display_name": "Python 3 (ipykernel)",
   "language": "python",
   "name": "python3"
  },
  "language_info": {
   "codemirror_mode": {
    "name": "ipython",
    "version": 3
   },
   "file_extension": ".py",
   "mimetype": "text/x-python",
   "name": "python",
   "nbconvert_exporter": "python",
   "pygments_lexer": "ipython3",
   "version": "3.10.13"
  }
 },
 "nbformat": 4,
 "nbformat_minor": 5
}
