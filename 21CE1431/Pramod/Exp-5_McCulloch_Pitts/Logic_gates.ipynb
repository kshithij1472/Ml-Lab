{
 "cells": [
  {
   "cell_type": "code",
   "execution_count": 1,
   "id": "a95f9fda",
   "metadata": {},
   "outputs": [],
   "source": [
    "import numpy as np"
   ]
  },
  {
   "cell_type": "markdown",
   "id": "0133da0a",
   "metadata": {},
   "source": [
    "## OR"
   ]
  },
  {
   "cell_type": "code",
   "execution_count": 2,
   "id": "f8341b2c",
   "metadata": {},
   "outputs": [
    {
     "name": "stdout",
     "output_type": "stream",
     "text": [
      "Input:\n",
      " [[0 0 1 1]\n",
      " [0 1 0 1]]\n",
      "Shape: (2, 4)\n"
     ]
    }
   ],
   "source": [
    "## Input\n",
    "x = np.array([[0, 0], [0, 1], [1, 0], [1, 1]]).T\n",
    "print('Input:\\n', x)\n",
    "print('Shape:', x.shape)"
   ]
  },
  {
   "cell_type": "code",
   "execution_count": 3,
   "id": "b89cb79f",
   "metadata": {},
   "outputs": [
    {
     "name": "stdout",
     "output_type": "stream",
     "text": [
      "Output:\n",
      " [[0 1 1 1]]\n",
      "Shape: (1, 4)\n"
     ]
    }
   ],
   "source": [
    "## Output\n",
    "y = np.array([[0, 1, 1, 1]])\n",
    "print('Output:\\n', y)\n",
    "print('Shape:', y.shape)"
   ]
  },
  {
   "cell_type": "code",
   "execution_count": 4,
   "id": "be00b594",
   "metadata": {},
   "outputs": [
    {
     "name": "stdout",
     "output_type": "stream",
     "text": [
      "Input:\n",
      " [[1. 1. 1. 1.]\n",
      " [0. 0. 1. 1.]\n",
      " [0. 1. 0. 1.]]\n",
      "Shape: (3, 4)\n"
     ]
    }
   ],
   "source": [
    "## Add bias\n",
    "X = np.vstack((np.ones((1, x.shape[1])), x))\n",
    "print('Input:\\n', X)\n",
    "print('Shape:', X.shape)"
   ]
  },
  {
   "cell_type": "code",
   "execution_count": 5,
   "id": "845cb712",
   "metadata": {},
   "outputs": [
    {
     "name": "stdout",
     "output_type": "stream",
     "text": [
      "Weight:\n",
      " [[0]\n",
      " [1]\n",
      " [1]]\n",
      "Shape: (3, 1)\n"
     ]
    }
   ],
   "source": [
    "## weight vector\n",
    "w = np.array([[0],[1],[1]])\n",
    "print('Weight:\\n', w)\n",
    "print('Shape:', w.shape)"
   ]
  },
  {
   "cell_type": "code",
   "execution_count": 6,
   "id": "e284ae94",
   "metadata": {},
   "outputs": [
    {
     "name": "stdout",
     "output_type": "stream",
     "text": [
      "net= [0. 1. 1. 2.]\n",
      "Predicted output: [0, 1, 1, 1]\n"
     ]
    }
   ],
   "source": [
    "## Prediction\n",
    "net = (w.T @ X).ravel()\n",
    "print('net=', net)\n",
    "y_pred = [int(op>0) for op in net]\n",
    "print('Predicted output:', y_pred)"
   ]
  },
  {
   "cell_type": "markdown",
   "id": "a7df2d62",
   "metadata": {},
   "source": [
    "## AND"
   ]
  },
  {
   "cell_type": "code",
   "execution_count": 23,
   "id": "84190bba",
   "metadata": {},
   "outputs": [
    {
     "name": "stdout",
     "output_type": "stream",
     "text": [
      "Input:\n",
      " [[0 0 1 1]\n",
      " [0 1 0 1]]\n",
      "Shape: (2, 4)\n"
     ]
    }
   ],
   "source": [
    "## Input\n",
    "x = np.array([[0, 0], [0, 1], [1, 0], [1, 1]]).T\n",
    "print('Input:\\n', x)\n",
    "print('Shape:', x.shape)"
   ]
  },
  {
   "cell_type": "code",
   "execution_count": 24,
   "id": "94704c7f",
   "metadata": {},
   "outputs": [
    {
     "name": "stdout",
     "output_type": "stream",
     "text": [
      "Input:\n",
      " [[1. 1. 1. 1.]\n",
      " [0. 0. 1. 1.]\n",
      " [0. 1. 0. 1.]]\n",
      "Shape: (3, 4)\n"
     ]
    }
   ],
   "source": [
    "## Add bias\n",
    "X = np.vstack((np.ones((1, x.shape[1])), x))\n",
    "print('Input:\\n', X)\n",
    "print('Shape:', X.shape)"
   ]
  },
  {
   "cell_type": "code",
   "execution_count": 25,
   "id": "7cfb0683",
   "metadata": {},
   "outputs": [
    {
     "name": "stdout",
     "output_type": "stream",
     "text": [
      "Output:\n",
      " [[0 0 0 1]]\n",
      "Shape: (1, 4)\n"
     ]
    }
   ],
   "source": [
    "## Output\n",
    "y = np.array([[0, 0, 0, 1]])\n",
    "print('Output:\\n', y)\n",
    "print('Shape:', y.shape)"
   ]
  },
  {
   "cell_type": "code",
   "execution_count": 26,
   "id": "11c5c09d",
   "metadata": {},
   "outputs": [
    {
     "name": "stdout",
     "output_type": "stream",
     "text": [
      "Weight:\n",
      " [[-1]\n",
      " [ 1]\n",
      " [ 1]]\n",
      "Shape: (3, 1)\n"
     ]
    }
   ],
   "source": [
    "## weight vector\n",
    "w = np.array([[-1],[1],[1]])\n",
    "print('Weight:\\n', w)\n",
    "print('Shape:', w.shape)"
   ]
  },
  {
   "cell_type": "code",
   "execution_count": 27,
   "id": "722887c4",
   "metadata": {},
   "outputs": [
    {
     "name": "stdout",
     "output_type": "stream",
     "text": [
      "net= [-1.  0.  0.  1.]\n",
      "Predicted output: [0, 0, 0, 1]\n"
     ]
    }
   ],
   "source": [
    "## Prediction\n",
    "net = (w.T @ X).ravel()\n",
    "print('net=', net)\n",
    "y_pred = [int(op>0) for op in net]\n",
    "print('Predicted output:', y_pred)"
   ]
  },
  {
   "cell_type": "markdown",
   "id": "67489b2b",
   "metadata": {},
   "source": [
    "## NOT"
   ]
  },
  {
   "cell_type": "code",
   "execution_count": 28,
   "id": "52b26f43",
   "metadata": {},
   "outputs": [
    {
     "name": "stdout",
     "output_type": "stream",
     "text": [
      "Input:\n",
      " [[0 1]]\n",
      "Shape: (1, 2)\n"
     ]
    }
   ],
   "source": [
    "## Input\n",
    "x = np.array([[0], [1]]).T\n",
    "print('Input:\\n', x)\n",
    "print('Shape:', x.shape)"
   ]
  },
  {
   "cell_type": "code",
   "execution_count": 29,
   "id": "9a1644f9",
   "metadata": {},
   "outputs": [
    {
     "name": "stdout",
     "output_type": "stream",
     "text": [
      "Input:\n",
      " [[1. 1.]\n",
      " [0. 1.]]\n",
      "Shape: (2, 2)\n"
     ]
    }
   ],
   "source": [
    "## Add bias\n",
    "X = np.vstack((np.ones((1, x.shape[1])), x))\n",
    "print('Input:\\n', X)\n",
    "print('Shape:', X.shape)"
   ]
  },
  {
   "cell_type": "code",
   "execution_count": 30,
   "id": "110c0a0c",
   "metadata": {},
   "outputs": [
    {
     "name": "stdout",
     "output_type": "stream",
     "text": [
      "Output:\n",
      " [[1 0]]\n",
      "Shape: (1, 2)\n"
     ]
    }
   ],
   "source": [
    "## Output\n",
    "y = np.array([[1, 0]])\n",
    "print('Output:\\n', y)\n",
    "print('Shape:', y.shape)"
   ]
  },
  {
   "cell_type": "code",
   "execution_count": 31,
   "id": "2dc8aeae",
   "metadata": {},
   "outputs": [
    {
     "name": "stdout",
     "output_type": "stream",
     "text": [
      "Weight:\n",
      " [[ 1]\n",
      " [-1]]\n",
      "Shape: (2, 1)\n"
     ]
    }
   ],
   "source": [
    "## weight vector\n",
    "w = np.array([[1],[-1]])\n",
    "print('Weight:\\n', w)\n",
    "print('Shape:', w.shape)"
   ]
  },
  {
   "cell_type": "code",
   "execution_count": 32,
   "id": "037a3859",
   "metadata": {},
   "outputs": [
    {
     "name": "stdout",
     "output_type": "stream",
     "text": [
      "net= [1. 0.]\n",
      "Predicted output: [1, 0]\n"
     ]
    }
   ],
   "source": [
    "## Prediction\n",
    "net = (w.T @ X).ravel()\n",
    "print('net=', net)\n",
    "y_pred = [int(op>0) for op in net]\n",
    "print('Predicted output:', y_pred)"
   ]
  }
 ],
 "metadata": {
  "kernelspec": {
   "display_name": "Python 3 (ipykernel)",
   "language": "python",
   "name": "python3"
  },
  "language_info": {
   "codemirror_mode": {
    "name": "ipython",
    "version": 3
   },
   "file_extension": ".py",
   "mimetype": "text/x-python",
   "name": "python",
   "nbconvert_exporter": "python",
   "pygments_lexer": "ipython3",
   "version": "3.11.8"
  }
 },
 "nbformat": 4,
 "nbformat_minor": 5
}
